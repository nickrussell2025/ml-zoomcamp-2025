{
 "cells": [
  {
   "cell_type": "markdown",
   "id": "4439fdba",
   "metadata": {},
   "source": [
    "# MLZC_HOMEWORK_WK1"
   ]
  },
  {
   "cell_type": "markdown",
   "id": "71657ae6",
   "metadata": {},
   "source": [
    "## SETUP"
   ]
  },
  {
   "cell_type": "code",
   "execution_count": 11,
   "id": "bcd99a0d",
   "metadata": {},
   "outputs": [
    {
     "name": "stdout",
     "output_type": "stream",
     "text": [
      "✅ Libraries loaded\n",
      "\n",
      "Python version: 3.12.3\n",
      "Pandas version: 2.3.2\n",
      "NumPy version:  2.3.2\n"
     ]
    }
   ],
   "source": [
    "import pandas as pd\n",
    "import numpy as np\n",
    "import sys\n",
    "\n",
    "print(\"✅ Libraries loaded\\n\")\n",
    "print(f\"Python version: {sys.version.split()[0]}\")\n",
    "print(f\"Pandas version: {pd.__version__}\")\n",
    "print(f\"NumPy version:  {np.__version__}\")"
   ]
  },
  {
   "cell_type": "markdown",
   "id": "d5aa530e",
   "metadata": {},
   "source": [
    "## DATA"
   ]
  },
  {
   "cell_type": "code",
   "execution_count": 12,
   "id": "a6047c39",
   "metadata": {},
   "outputs": [
    {
     "name": "stdout",
     "output_type": "stream",
     "text": [
      "✅ Downloaded: car_fuel_efficiency.csv\n"
     ]
    }
   ],
   "source": [
    "import urllib.request\n",
    "\n",
    "url = 'https://raw.githubusercontent.com/alexeygrigorev/datasets/master/car_fuel_efficiency.csv'\n",
    "filename = 'car_fuel_efficiency.csv'\n",
    "\n",
    "urllib.request.urlretrieve(url, filename)\n",
    "print(f\"✅ Downloaded: {filename}\")"
   ]
  },
  {
   "cell_type": "code",
   "execution_count": 13,
   "id": "84ca3110",
   "metadata": {},
   "outputs": [
    {
     "name": "stdout",
     "output_type": "stream",
     "text": [
      "Shape: 9704 rows × 11 columns\n",
      "\n",
      "Columns: ['engine_displacement', 'num_cylinders', 'horsepower', 'vehicle_weight', 'acceleration', 'model_year', 'origin', 'fuel_type', 'drivetrain', 'num_doors', 'fuel_efficiency_mpg']\n",
      "\n",
      "Data types:\n",
      "engine_displacement      int64\n",
      "num_cylinders          float64\n",
      "horsepower             float64\n",
      "vehicle_weight         float64\n",
      "acceleration           float64\n",
      "model_year               int64\n",
      "origin                  object\n",
      "fuel_type               object\n",
      "drivetrain              object\n",
      "num_doors              float64\n",
      "fuel_efficiency_mpg    float64\n",
      "dtype: object\n",
      "\n",
      "Missing values:\n",
      "engine_displacement      0\n",
      "num_cylinders          482\n",
      "horsepower             708\n",
      "vehicle_weight           0\n",
      "acceleration           930\n",
      "model_year               0\n",
      "origin                   0\n",
      "fuel_type                0\n",
      "drivetrain               0\n",
      "num_doors              502\n",
      "fuel_efficiency_mpg      0\n",
      "dtype: int64\n"
     ]
    },
    {
     "data": {
      "text/html": [
       "<div>\n",
       "<style scoped>\n",
       "    .dataframe tbody tr th:only-of-type {\n",
       "        vertical-align: middle;\n",
       "    }\n",
       "\n",
       "    .dataframe tbody tr th {\n",
       "        vertical-align: top;\n",
       "    }\n",
       "\n",
       "    .dataframe thead th {\n",
       "        text-align: right;\n",
       "    }\n",
       "</style>\n",
       "<table border=\"1\" class=\"dataframe\">\n",
       "  <thead>\n",
       "    <tr style=\"text-align: right;\">\n",
       "      <th></th>\n",
       "      <th>engine_displacement</th>\n",
       "      <th>num_cylinders</th>\n",
       "      <th>horsepower</th>\n",
       "      <th>vehicle_weight</th>\n",
       "      <th>acceleration</th>\n",
       "      <th>model_year</th>\n",
       "      <th>origin</th>\n",
       "      <th>fuel_type</th>\n",
       "      <th>drivetrain</th>\n",
       "      <th>num_doors</th>\n",
       "      <th>fuel_efficiency_mpg</th>\n",
       "    </tr>\n",
       "  </thead>\n",
       "  <tbody>\n",
       "    <tr>\n",
       "      <th>0</th>\n",
       "      <td>170</td>\n",
       "      <td>3.0</td>\n",
       "      <td>159.0</td>\n",
       "      <td>3413.433759</td>\n",
       "      <td>17.7</td>\n",
       "      <td>2003</td>\n",
       "      <td>Europe</td>\n",
       "      <td>Gasoline</td>\n",
       "      <td>All-wheel drive</td>\n",
       "      <td>0.0</td>\n",
       "      <td>13.231729</td>\n",
       "    </tr>\n",
       "    <tr>\n",
       "      <th>1</th>\n",
       "      <td>130</td>\n",
       "      <td>5.0</td>\n",
       "      <td>97.0</td>\n",
       "      <td>3149.664934</td>\n",
       "      <td>17.8</td>\n",
       "      <td>2007</td>\n",
       "      <td>USA</td>\n",
       "      <td>Gasoline</td>\n",
       "      <td>Front-wheel drive</td>\n",
       "      <td>0.0</td>\n",
       "      <td>13.688217</td>\n",
       "    </tr>\n",
       "    <tr>\n",
       "      <th>2</th>\n",
       "      <td>170</td>\n",
       "      <td>NaN</td>\n",
       "      <td>78.0</td>\n",
       "      <td>3079.038997</td>\n",
       "      <td>15.1</td>\n",
       "      <td>2018</td>\n",
       "      <td>Europe</td>\n",
       "      <td>Gasoline</td>\n",
       "      <td>Front-wheel drive</td>\n",
       "      <td>0.0</td>\n",
       "      <td>14.246341</td>\n",
       "    </tr>\n",
       "    <tr>\n",
       "      <th>3</th>\n",
       "      <td>220</td>\n",
       "      <td>4.0</td>\n",
       "      <td>NaN</td>\n",
       "      <td>2542.392402</td>\n",
       "      <td>20.2</td>\n",
       "      <td>2009</td>\n",
       "      <td>USA</td>\n",
       "      <td>Diesel</td>\n",
       "      <td>All-wheel drive</td>\n",
       "      <td>2.0</td>\n",
       "      <td>16.912736</td>\n",
       "    </tr>\n",
       "    <tr>\n",
       "      <th>4</th>\n",
       "      <td>210</td>\n",
       "      <td>1.0</td>\n",
       "      <td>140.0</td>\n",
       "      <td>3460.870990</td>\n",
       "      <td>14.4</td>\n",
       "      <td>2009</td>\n",
       "      <td>Europe</td>\n",
       "      <td>Gasoline</td>\n",
       "      <td>All-wheel drive</td>\n",
       "      <td>2.0</td>\n",
       "      <td>12.488369</td>\n",
       "    </tr>\n",
       "  </tbody>\n",
       "</table>\n",
       "</div>"
      ],
      "text/plain": [
       "   engine_displacement  num_cylinders  horsepower  vehicle_weight  \\\n",
       "0                  170            3.0       159.0     3413.433759   \n",
       "1                  130            5.0        97.0     3149.664934   \n",
       "2                  170            NaN        78.0     3079.038997   \n",
       "3                  220            4.0         NaN     2542.392402   \n",
       "4                  210            1.0       140.0     3460.870990   \n",
       "\n",
       "   acceleration  model_year  origin fuel_type         drivetrain  num_doors  \\\n",
       "0          17.7        2003  Europe  Gasoline    All-wheel drive        0.0   \n",
       "1          17.8        2007     USA  Gasoline  Front-wheel drive        0.0   \n",
       "2          15.1        2018  Europe  Gasoline  Front-wheel drive        0.0   \n",
       "3          20.2        2009     USA    Diesel    All-wheel drive        2.0   \n",
       "4          14.4        2009  Europe  Gasoline    All-wheel drive        2.0   \n",
       "\n",
       "   fuel_efficiency_mpg  \n",
       "0            13.231729  \n",
       "1            13.688217  \n",
       "2            14.246341  \n",
       "3            16.912736  \n",
       "4            12.488369  "
      ]
     },
     "execution_count": 13,
     "metadata": {},
     "output_type": "execute_result"
    }
   ],
   "source": [
    "df = pd.read_csv('car_fuel_efficiency.csv')\n",
    "\n",
    "print(f\"Shape: {df.shape[0]} rows × {df.shape[1]} columns\")\n",
    "print(f\"\\nColumns: {df.columns.tolist()}\")\n",
    "print(f\"\\nData types:\\n{df.dtypes}\")\n",
    "print(f\"\\nMissing values:\\n{df.isnull().sum()}\")\n",
    "\n",
    "df.head()"
   ]
  },
  {
   "cell_type": "markdown",
   "id": "177ab401",
   "metadata": {},
   "source": [
    "## QUESTIONS"
   ]
  },
  {
   "cell_type": "code",
   "execution_count": 14,
   "id": "5f89bafe",
   "metadata": {},
   "outputs": [
    {
     "name": "stdout",
     "output_type": "stream",
     "text": [
      "Answer: 2.3.2\n"
     ]
    }
   ],
   "source": [
    "# Q1: What version of Pandas?\n",
    "print(f\"Answer: {pd.__version__}\")"
   ]
  },
  {
   "cell_type": "code",
   "execution_count": 15,
   "id": "42203742",
   "metadata": {},
   "outputs": [
    {
     "name": "stdout",
     "output_type": "stream",
     "text": [
      "Number of records: 9704\n"
     ]
    }
   ],
   "source": [
    "# Q2: How many records are in the dataset?\n",
    "num_records = len(df)\n",
    "print(f\"Number of records: {num_records}\")"
   ]
  },
  {
   "cell_type": "code",
   "execution_count": 16,
   "id": "645657a2",
   "metadata": {},
   "outputs": [
    {
     "name": "stdout",
     "output_type": "stream",
     "text": [
      "Number of fuel types: 2\n",
      "Fuel types: ['Gasoline' 'Diesel']\n"
     ]
    }
   ],
   "source": [
    "# Q3: How many unique fuel types?\n",
    "num_fuel_types = df['fuel_type'].nunique()\n",
    "print(f\"Number of fuel types: {num_fuel_types}\")\n",
    "print(f\"Fuel types: {df['fuel_type'].unique()}\")"
   ]
  },
  {
   "cell_type": "code",
   "execution_count": 17,
   "id": "2ff58246",
   "metadata": {},
   "outputs": [
    {
     "name": "stdout",
     "output_type": "stream",
     "text": [
      "Columns with missing values: 4\n",
      "\n",
      "Details:\n",
      "num_cylinders    482\n",
      "horsepower       708\n",
      "acceleration     930\n",
      "num_doors        502\n",
      "dtype: int64\n"
     ]
    }
   ],
   "source": [
    "# Q4: How many columns have missing values?\n",
    "missing_per_column = df.isnull().sum()\n",
    "columns_with_missing = (missing_per_column > 0).sum()\n",
    "\n",
    "print(f\"Columns with missing values: {columns_with_missing}\")\n",
    "print(f\"\\nDetails:\")\n",
    "print(missing_per_column[missing_per_column > 0])"
   ]
  },
  {
   "cell_type": "code",
   "execution_count": 18,
   "id": "b133fc72",
   "metadata": {},
   "outputs": [
    {
     "name": "stdout",
     "output_type": "stream",
     "text": [
      "Max fuel efficiency (Asia): 23.759122836520497\n"
     ]
    }
   ],
   "source": [
    "# Q5: Maximum fuel efficiency for Asian cars\n",
    "asia_cars = df[df['origin'] == 'Asia']\n",
    "max_fuel_efficiency = asia_cars['fuel_efficiency_mpg'].max()\n",
    "\n",
    "print(f\"Max fuel efficiency (Asia): {max_fuel_efficiency}\")"
   ]
  },
  {
   "cell_type": "code",
   "execution_count": 19,
   "id": "4a987005",
   "metadata": {},
   "outputs": [
    {
     "name": "stdout",
     "output_type": "stream",
     "text": [
      "1. Median (before): 149.0\n",
      "2. Mode (most frequent): 152.0\n",
      "4. Median (after): 152.0\n",
      "\n",
      "Changed? True\n",
      "Answer: Yes, it increased\n"
     ]
    }
   ],
   "source": [
    "# Q6: Median horsepower analysis\n",
    "\n",
    "# Median BEFORE filling\n",
    "median_before = df['horsepower'].median()\n",
    "print(f\"1. Median (before): {median_before}\")\n",
    "\n",
    "# Most frequent value (mode)\n",
    "mode_value = df['horsepower'].mode()[0]\n",
    "print(f\"2. Mode (most frequent): {mode_value}\")\n",
    "\n",
    "# Fill missing values with mode\n",
    "df['horsepower'] = df['horsepower'].fillna(mode_value)\n",
    "\n",
    "# Median AFTER filling\n",
    "median_after = df['horsepower'].median()\n",
    "print(f\"4. Median (after): {median_after}\")\n",
    "\n",
    "# Compare\n",
    "print(f\"\\nChanged? {median_before != median_after}\")\n",
    "if median_after > median_before:\n",
    "    print(\"Answer: Yes, it increased\")\n",
    "elif median_after < median_before:\n",
    "    print(\"Answer: Yes, it decreased\")\n",
    "else:\n",
    "    print(\"Answer: No\")"
   ]
  },
  {
   "cell_type": "code",
   "execution_count": 20,
   "id": "a85ea168",
   "metadata": {},
   "outputs": [
    {
     "name": "stdout",
     "output_type": "stream",
     "text": [
      "X (first 7 Asia cars):\n",
      "[[2714.21930965 2016.        ]\n",
      " [2783.86897424 2010.        ]\n",
      " [3582.68736772 2007.        ]\n",
      " [2231.8081416  2011.        ]\n",
      " [2659.43145076 2016.        ]\n",
      " [2844.22753389 2014.        ]\n",
      " [3761.99403819 2019.        ]]\n",
      "\n",
      "XTX:\n",
      "[[62248334.33150762 41431216.5073268 ]\n",
      " [41431216.5073268  28373339.        ]]\n",
      "\n",
      "XTX inverse:\n",
      "[[ 5.71497081e-07 -8.34509443e-07]\n",
      " [-8.34509443e-07  1.25380877e-06]]\n",
      "\n",
      "y: [1100 1300  800  900 1000 1100 1200]\n",
      "\n",
      "w (weights): [0.01386421 0.5049067 ]\n",
      "\n",
      "✅ Sum of weights: 0.5187709081074016\n",
      "   Rounded: 0.52\n"
     ]
    }
   ],
   "source": [
    "# Q7: Sum of weights (linear regression)\n",
    "\n",
    "# Select Asia cars, only vehicle_weight and model_year\n",
    "asia_data = df[df['origin'] == 'Asia'][['vehicle_weight', 'model_year']]\n",
    "\n",
    "# First 7 rows\n",
    "first_7 = asia_data.head(7)\n",
    "\n",
    "# Get NumPy array X\n",
    "X = first_7.values\n",
    "print(\"X (first 7 Asia cars):\")\n",
    "print(X)\n",
    "\n",
    "# Compute XTX (X transpose times X)\n",
    "XTX = X.T @ X\n",
    "print(f\"\\nXTX:\\n{XTX}\")\n",
    "\n",
    "# Invert XTX\n",
    "XTX_inv = np.linalg.inv(XTX)\n",
    "print(f\"\\nXTX inverse:\\n{XTX_inv}\")\n",
    "\n",
    "# Create y array\n",
    "y = np.array([1100, 1300, 800, 900, 1000, 1100, 1200])\n",
    "print(f\"\\ny: {y}\")\n",
    "\n",
    "# Compute w\n",
    "w = XTX_inv @ X.T @ y\n",
    "print(f\"\\nw (weights): {w}\")\n",
    "\n",
    "# Sum of all elements\n",
    "sum_w = w.sum()\n",
    "print(f\"\\n✅ Sum of weights: {sum_w}\")\n",
    "print(f\"   Rounded: {sum_w:.2f}\")"
   ]
  }
 ],
 "metadata": {
  "kernelspec": {
   "display_name": "ml-engineering",
   "language": "python",
   "name": "python3"
  },
  "language_info": {
   "codemirror_mode": {
    "name": "ipython",
    "version": 3
   },
   "file_extension": ".py",
   "mimetype": "text/x-python",
   "name": "python",
   "nbconvert_exporter": "python",
   "pygments_lexer": "ipython3",
   "version": "3.12.3"
  }
 },
 "nbformat": 4,
 "nbformat_minor": 5
}
